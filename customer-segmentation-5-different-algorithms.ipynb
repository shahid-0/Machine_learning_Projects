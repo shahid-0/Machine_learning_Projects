{
 "cells": [
  {
   "cell_type": "code",
   "execution_count": 1,
   "id": "varied-falls",
   "metadata": {
    "execution": {
     "iopub.execute_input": "2021-07-05T19:28:32.240530Z",
     "iopub.status.busy": "2021-07-05T19:28:32.239736Z",
     "iopub.status.idle": "2021-07-05T19:28:33.450950Z",
     "shell.execute_reply": "2021-07-05T19:28:33.450314Z",
     "shell.execute_reply.started": "2021-07-05T18:19:55.282700Z"
    },
    "papermill": {
     "duration": 1.251526,
     "end_time": "2021-07-05T19:28:33.451118",
     "exception": false,
     "start_time": "2021-07-05T19:28:32.199592",
     "status": "completed"
    },
    "tags": []
   },
   "outputs": [],
   "source": [
    "## Import all important libraries\n",
    "import pandas as pd\n",
    "import numpy as np\n",
    "import matplotlib.pyplot as plt\n",
    "from sklearn.cluster import AffinityPropagation, Birch, DBSCAN, KMeans, SpectralClustering\n",
    "from sklearn.preprocessing import StandardScaler\n",
    "import seaborn as sns\n",
    "from sklearn.metrics import silhouette_score\n"
   ]
  },
  {
   "cell_type": "code",
   "execution_count": 2,
   "id": "international-empty",
   "metadata": {
    "execution": {
     "iopub.execute_input": "2021-07-05T19:28:33.510276Z",
     "iopub.status.busy": "2021-07-05T19:28:33.509653Z",
     "iopub.status.idle": "2021-07-05T19:28:33.543601Z",
     "shell.execute_reply": "2021-07-05T19:28:33.544109Z",
     "shell.execute_reply.started": "2021-07-05T18:19:57.495434Z"
    },
    "papermill": {
     "duration": 0.065651,
     "end_time": "2021-07-05T19:28:33.544273",
     "exception": false,
     "start_time": "2021-07-05T19:28:33.478622",
     "status": "completed"
    },
    "tags": []
   },
   "outputs": [
    {
     "data": {
      "text/html": [
       "<div>\n",
       "<style scoped>\n",
       "    .dataframe tbody tr th:only-of-type {\n",
       "        vertical-align: middle;\n",
       "    }\n",
       "\n",
       "    .dataframe tbody tr th {\n",
       "        vertical-align: top;\n",
       "    }\n",
       "\n",
       "    .dataframe thead th {\n",
       "        text-align: right;\n",
       "    }\n",
       "</style>\n",
       "<table border=\"1\" class=\"dataframe\">\n",
       "  <thead>\n",
       "    <tr style=\"text-align: right;\">\n",
       "      <th></th>\n",
       "      <th>CustomerID</th>\n",
       "      <th>Gender</th>\n",
       "      <th>Age</th>\n",
       "      <th>Annual Income (k$)</th>\n",
       "      <th>Spending Score (1-100)</th>\n",
       "    </tr>\n",
       "  </thead>\n",
       "  <tbody>\n",
       "    <tr>\n",
       "      <th>0</th>\n",
       "      <td>1</td>\n",
       "      <td>Male</td>\n",
       "      <td>19</td>\n",
       "      <td>15</td>\n",
       "      <td>39</td>\n",
       "    </tr>\n",
       "    <tr>\n",
       "      <th>1</th>\n",
       "      <td>2</td>\n",
       "      <td>Male</td>\n",
       "      <td>21</td>\n",
       "      <td>15</td>\n",
       "      <td>81</td>\n",
       "    </tr>\n",
       "    <tr>\n",
       "      <th>2</th>\n",
       "      <td>3</td>\n",
       "      <td>Female</td>\n",
       "      <td>20</td>\n",
       "      <td>16</td>\n",
       "      <td>6</td>\n",
       "    </tr>\n",
       "    <tr>\n",
       "      <th>3</th>\n",
       "      <td>4</td>\n",
       "      <td>Female</td>\n",
       "      <td>23</td>\n",
       "      <td>16</td>\n",
       "      <td>77</td>\n",
       "    </tr>\n",
       "    <tr>\n",
       "      <th>4</th>\n",
       "      <td>5</td>\n",
       "      <td>Female</td>\n",
       "      <td>31</td>\n",
       "      <td>17</td>\n",
       "      <td>40</td>\n",
       "    </tr>\n",
       "  </tbody>\n",
       "</table>\n",
       "</div>"
      ],
      "text/plain": [
       "   CustomerID  Gender  Age  Annual Income (k$)  Spending Score (1-100)\n",
       "0           1    Male   19                  15                      39\n",
       "1           2    Male   21                  15                      81\n",
       "2           3  Female   20                  16                       6\n",
       "3           4  Female   23                  16                      77\n",
       "4           5  Female   31                  17                      40"
      ]
     },
     "execution_count": 2,
     "metadata": {},
     "output_type": "execute_result"
    }
   ],
   "source": [
    "## Load the data\n",
    "df = pd.read_csv('../input/customer-segmentation-tutorial-in-python/Mall_Customers.csv')\n",
    "df.head()"
   ]
  },
  {
   "cell_type": "code",
   "execution_count": 3,
   "id": "choice-period",
   "metadata": {
    "execution": {
     "iopub.execute_input": "2021-07-05T19:28:33.602488Z",
     "iopub.status.busy": "2021-07-05T19:28:33.601588Z",
     "iopub.status.idle": "2021-07-05T19:28:33.608740Z",
     "shell.execute_reply": "2021-07-05T19:28:33.609207Z",
     "shell.execute_reply.started": "2021-07-05T18:19:58.296073Z"
    },
    "papermill": {
     "duration": 0.037547,
     "end_time": "2021-07-05T19:28:33.609365",
     "exception": false,
     "start_time": "2021-07-05T19:28:33.571818",
     "status": "completed"
    },
    "tags": []
   },
   "outputs": [],
   "source": [
    "## First of all drop the customerID this is not necessary\n",
    "df = df.drop(['CustomerID'], axis = 1)"
   ]
  },
  {
   "cell_type": "code",
   "execution_count": 4,
   "id": "failing-proxy",
   "metadata": {
    "execution": {
     "iopub.execute_input": "2021-07-05T19:28:33.674748Z",
     "iopub.status.busy": "2021-07-05T19:28:33.674167Z",
     "iopub.status.idle": "2021-07-05T19:28:33.677779Z",
     "shell.execute_reply": "2021-07-05T19:28:33.678260Z",
     "shell.execute_reply.started": "2021-07-05T18:19:59.141631Z"
    },
    "papermill": {
     "duration": 0.040349,
     "end_time": "2021-07-05T19:28:33.678423",
     "exception": false,
     "start_time": "2021-07-05T19:28:33.638074",
     "status": "completed"
    },
    "tags": []
   },
   "outputs": [
    {
     "data": {
      "text/html": [
       "<div>\n",
       "<style scoped>\n",
       "    .dataframe tbody tr th:only-of-type {\n",
       "        vertical-align: middle;\n",
       "    }\n",
       "\n",
       "    .dataframe tbody tr th {\n",
       "        vertical-align: top;\n",
       "    }\n",
       "\n",
       "    .dataframe thead th {\n",
       "        text-align: right;\n",
       "    }\n",
       "</style>\n",
       "<table border=\"1\" class=\"dataframe\">\n",
       "  <thead>\n",
       "    <tr style=\"text-align: right;\">\n",
       "      <th></th>\n",
       "      <th>Gender</th>\n",
       "      <th>Age</th>\n",
       "      <th>Annual Income (k$)</th>\n",
       "      <th>Spending Score (1-100)</th>\n",
       "    </tr>\n",
       "  </thead>\n",
       "  <tbody>\n",
       "    <tr>\n",
       "      <th>0</th>\n",
       "      <td>Male</td>\n",
       "      <td>19</td>\n",
       "      <td>15</td>\n",
       "      <td>39</td>\n",
       "    </tr>\n",
       "    <tr>\n",
       "      <th>1</th>\n",
       "      <td>Male</td>\n",
       "      <td>21</td>\n",
       "      <td>15</td>\n",
       "      <td>81</td>\n",
       "    </tr>\n",
       "    <tr>\n",
       "      <th>2</th>\n",
       "      <td>Female</td>\n",
       "      <td>20</td>\n",
       "      <td>16</td>\n",
       "      <td>6</td>\n",
       "    </tr>\n",
       "    <tr>\n",
       "      <th>3</th>\n",
       "      <td>Female</td>\n",
       "      <td>23</td>\n",
       "      <td>16</td>\n",
       "      <td>77</td>\n",
       "    </tr>\n",
       "    <tr>\n",
       "      <th>4</th>\n",
       "      <td>Female</td>\n",
       "      <td>31</td>\n",
       "      <td>17</td>\n",
       "      <td>40</td>\n",
       "    </tr>\n",
       "  </tbody>\n",
       "</table>\n",
       "</div>"
      ],
      "text/plain": [
       "   Gender  Age  Annual Income (k$)  Spending Score (1-100)\n",
       "0    Male   19                  15                      39\n",
       "1    Male   21                  15                      81\n",
       "2  Female   20                  16                       6\n",
       "3  Female   23                  16                      77\n",
       "4  Female   31                  17                      40"
      ]
     },
     "execution_count": 4,
     "metadata": {},
     "output_type": "execute_result"
    }
   ],
   "source": [
    "df.head()"
   ]
  },
  {
   "cell_type": "code",
   "execution_count": 5,
   "id": "asian-fleet",
   "metadata": {
    "execution": {
     "iopub.execute_input": "2021-07-05T19:28:33.751387Z",
     "iopub.status.busy": "2021-07-05T19:28:33.750650Z",
     "iopub.status.idle": "2021-07-05T19:28:33.754581Z",
     "shell.execute_reply": "2021-07-05T19:28:33.755031Z",
     "shell.execute_reply.started": "2021-07-05T18:19:59.997439Z"
    },
    "papermill": {
     "duration": 0.048861,
     "end_time": "2021-07-05T19:28:33.755195",
     "exception": false,
     "start_time": "2021-07-05T19:28:33.706334",
     "status": "completed"
    },
    "tags": []
   },
   "outputs": [
    {
     "name": "stdout",
     "output_type": "stream",
     "text": [
      "<class 'pandas.core.frame.DataFrame'>\n",
      "RangeIndex: 200 entries, 0 to 199\n",
      "Data columns (total 4 columns):\n",
      " #   Column                  Non-Null Count  Dtype \n",
      "---  ------                  --------------  ----- \n",
      " 0   Gender                  200 non-null    object\n",
      " 1   Age                     200 non-null    int64 \n",
      " 2   Annual Income (k$)      200 non-null    int64 \n",
      " 3   Spending Score (1-100)  200 non-null    int64 \n",
      "dtypes: int64(3), object(1)\n",
      "memory usage: 6.4+ KB\n"
     ]
    }
   ],
   "source": [
    "df.info()"
   ]
  },
  {
   "cell_type": "code",
   "execution_count": 6,
   "id": "improved-humanitarian",
   "metadata": {
    "execution": {
     "iopub.execute_input": "2021-07-05T19:28:33.819705Z",
     "iopub.status.busy": "2021-07-05T19:28:33.816076Z",
     "iopub.status.idle": "2021-07-05T19:28:33.836558Z",
     "shell.execute_reply": "2021-07-05T19:28:33.835951Z",
     "shell.execute_reply.started": "2021-07-05T18:20:00.708016Z"
    },
    "papermill": {
     "duration": 0.053078,
     "end_time": "2021-07-05T19:28:33.836687",
     "exception": false,
     "start_time": "2021-07-05T19:28:33.783609",
     "status": "completed"
    },
    "tags": []
   },
   "outputs": [
    {
     "data": {
      "text/html": [
       "<div>\n",
       "<style scoped>\n",
       "    .dataframe tbody tr th:only-of-type {\n",
       "        vertical-align: middle;\n",
       "    }\n",
       "\n",
       "    .dataframe tbody tr th {\n",
       "        vertical-align: top;\n",
       "    }\n",
       "\n",
       "    .dataframe thead th {\n",
       "        text-align: right;\n",
       "    }\n",
       "</style>\n",
       "<table border=\"1\" class=\"dataframe\">\n",
       "  <thead>\n",
       "    <tr style=\"text-align: right;\">\n",
       "      <th></th>\n",
       "      <th>Age</th>\n",
       "      <th>Annual Income (k$)</th>\n",
       "      <th>Spending Score (1-100)</th>\n",
       "    </tr>\n",
       "  </thead>\n",
       "  <tbody>\n",
       "    <tr>\n",
       "      <th>count</th>\n",
       "      <td>200.000000</td>\n",
       "      <td>200.000000</td>\n",
       "      <td>200.000000</td>\n",
       "    </tr>\n",
       "    <tr>\n",
       "      <th>mean</th>\n",
       "      <td>38.850000</td>\n",
       "      <td>60.560000</td>\n",
       "      <td>50.200000</td>\n",
       "    </tr>\n",
       "    <tr>\n",
       "      <th>std</th>\n",
       "      <td>13.969007</td>\n",
       "      <td>26.264721</td>\n",
       "      <td>25.823522</td>\n",
       "    </tr>\n",
       "    <tr>\n",
       "      <th>min</th>\n",
       "      <td>18.000000</td>\n",
       "      <td>15.000000</td>\n",
       "      <td>1.000000</td>\n",
       "    </tr>\n",
       "    <tr>\n",
       "      <th>25%</th>\n",
       "      <td>28.750000</td>\n",
       "      <td>41.500000</td>\n",
       "      <td>34.750000</td>\n",
       "    </tr>\n",
       "    <tr>\n",
       "      <th>50%</th>\n",
       "      <td>36.000000</td>\n",
       "      <td>61.500000</td>\n",
       "      <td>50.000000</td>\n",
       "    </tr>\n",
       "    <tr>\n",
       "      <th>75%</th>\n",
       "      <td>49.000000</td>\n",
       "      <td>78.000000</td>\n",
       "      <td>73.000000</td>\n",
       "    </tr>\n",
       "    <tr>\n",
       "      <th>max</th>\n",
       "      <td>70.000000</td>\n",
       "      <td>137.000000</td>\n",
       "      <td>99.000000</td>\n",
       "    </tr>\n",
       "  </tbody>\n",
       "</table>\n",
       "</div>"
      ],
      "text/plain": [
       "              Age  Annual Income (k$)  Spending Score (1-100)\n",
       "count  200.000000          200.000000              200.000000\n",
       "mean    38.850000           60.560000               50.200000\n",
       "std     13.969007           26.264721               25.823522\n",
       "min     18.000000           15.000000                1.000000\n",
       "25%     28.750000           41.500000               34.750000\n",
       "50%     36.000000           61.500000               50.000000\n",
       "75%     49.000000           78.000000               73.000000\n",
       "max     70.000000          137.000000               99.000000"
      ]
     },
     "execution_count": 6,
     "metadata": {},
     "output_type": "execute_result"
    }
   ],
   "source": [
    "df.describe()"
   ]
  },
  {
   "cell_type": "code",
   "execution_count": 7,
   "id": "funny-permission",
   "metadata": {
    "execution": {
     "iopub.execute_input": "2021-07-05T19:28:33.901016Z",
     "iopub.status.busy": "2021-07-05T19:28:33.900156Z",
     "iopub.status.idle": "2021-07-05T19:28:33.903416Z",
     "shell.execute_reply": "2021-07-05T19:28:33.904020Z",
     "shell.execute_reply.started": "2021-07-05T18:20:01.457791Z"
    },
    "papermill": {
     "duration": 0.038992,
     "end_time": "2021-07-05T19:28:33.904182",
     "exception": false,
     "start_time": "2021-07-05T19:28:33.865190",
     "status": "completed"
    },
    "tags": []
   },
   "outputs": [
    {
     "data": {
      "text/plain": [
       "Gender                    0\n",
       "Age                       0\n",
       "Annual Income (k$)        0\n",
       "Spending Score (1-100)    0\n",
       "dtype: int64"
      ]
     },
     "execution_count": 7,
     "metadata": {},
     "output_type": "execute_result"
    }
   ],
   "source": [
    "df.isnull().sum()"
   ]
  },
  {
   "cell_type": "markdown",
   "id": "subject-original",
   "metadata": {
    "papermill": {
     "duration": 0.02877,
     "end_time": "2021-07-05T19:28:33.962471",
     "exception": false,
     "start_time": "2021-07-05T19:28:33.933701",
     "status": "completed"
    },
    "tags": []
   },
   "source": [
    "#### There are no null values"
   ]
  },
  {
   "cell_type": "markdown",
   "id": "white-proxy",
   "metadata": {
    "papermill": {
     "duration": 0.028964,
     "end_time": "2021-07-05T19:28:34.020162",
     "exception": false,
     "start_time": "2021-07-05T19:28:33.991198",
     "status": "completed"
    },
    "tags": []
   },
   "source": [
    "## Check Distribution of all columns"
   ]
  },
  {
   "cell_type": "code",
   "execution_count": 8,
   "id": "protecting-circumstances",
   "metadata": {
    "execution": {
     "iopub.execute_input": "2021-07-05T19:28:34.102159Z",
     "iopub.status.busy": "2021-07-05T19:28:34.085400Z",
     "iopub.status.idle": "2021-07-05T19:28:34.221281Z",
     "shell.execute_reply": "2021-07-05T19:28:34.221696Z",
     "shell.execute_reply.started": "2021-07-05T18:20:03.949265Z"
    },
    "papermill": {
     "duration": 0.173102,
     "end_time": "2021-07-05T19:28:34.221857",
     "exception": false,
     "start_time": "2021-07-05T19:28:34.048755",
     "status": "completed"
    },
    "tags": []
   },
   "outputs": [
    {
     "data": {
      "text/plain": [
       "Text(0.5, 1.0, 'Gender Distribution')"
      ]
     },
     "execution_count": 8,
     "metadata": {},
     "output_type": "execute_result"
    },
    {
     "data": {
      "image/png": "[encoded data removed]",
      "text/plain": [
       "<Figure size 432x288 with 1 Axes>"
      ]
     },
     "metadata": {
      "needs_background": "light"
     },
     "output_type": "display_data"
    }
   ],
   "source": [
    "sns.countplot(x = 'Gender', data = df)\n",
    "plt.title(\"Gender Distribution\")"
   ]
  },
  {
   "cell_type": "code",
   "execution_count": 9,
   "id": "offshore-bikini",
   "metadata": {
    "execution": {
     "iopub.execute_input": "2021-07-05T19:28:34.287243Z",
     "iopub.status.busy": "2021-07-05T19:28:34.286300Z",
     "iopub.status.idle": "2021-07-05T19:28:34.491223Z",
     "shell.execute_reply": "2021-07-05T19:28:34.490652Z",
     "shell.execute_reply.started": "2021-07-05T18:20:04.709335Z"
    },
    "papermill": {
     "duration": 0.23982,
     "end_time": "2021-07-05T19:28:34.491356",
     "exception": false,
     "start_time": "2021-07-05T19:28:34.251536",
     "status": "completed"
    },
    "tags": []
   },
   "outputs": [
    {
     "name": "stderr",
     "output_type": "stream",
     "text": [
      "/opt/conda/lib/python3.7/site-packages/seaborn/distributions.py:2557: FutureWarning: `distplot` is a deprecated function and will be removed in a future version. Please adapt your code to use either `displot` (a figure-level function with similar flexibility) or `histplot` (an axes-level function for histograms).\n",
      "  warnings.warn(msg, FutureWarning)\n"
     ]
    },
    {
     "data": {
      "text/plain": [
       "Text(0.5, 1.0, 'Age Distribution')"
      ]
     },
     "execution_count": 9,
     "metadata": {},
     "output_type": "execute_result"
    },
    {
     "data": {
      "image/png": "[encoded data removed]",
      "text/plain": [
       "<Figure size 432x288 with 1 Axes>"
      ]
     },
     "metadata": {
      "needs_background": "light"
     },
     "output_type": "display_data"
    }
   ],
   "source": [
    "sns.distplot(df['Age'])\n",
    "plt.title(\"Age Distribution\")"
   ]
  },
  {
   "cell_type": "code",
   "execution_count": 10,
   "id": "prepared-girlfriend",
   "metadata": {
    "execution": {
     "iopub.execute_input": "2021-07-05T19:28:34.557811Z",
     "iopub.status.busy": "2021-07-05T19:28:34.557197Z",
     "iopub.status.idle": "2021-07-05T19:28:34.785258Z",
     "shell.execute_reply": "2021-07-05T19:28:34.785699Z",
     "shell.execute_reply.started": "2021-07-05T18:20:05.459541Z"
    },
    "papermill": {
     "duration": 0.263621,
     "end_time": "2021-07-05T19:28:34.785884",
     "exception": false,
     "start_time": "2021-07-05T19:28:34.522263",
     "status": "completed"
    },
    "tags": []
   },
   "outputs": [
    {
     "name": "stderr",
     "output_type": "stream",
     "text": [
      "/opt/conda/lib/python3.7/site-packages/seaborn/_decorators.py:43: FutureWarning: Pass the following variable as a keyword arg: x. From version 0.12, the only valid positional argument will be `data`, and passing other arguments without an explicit keyword will result in an error or misinterpretation.\n",
      "  FutureWarning\n"
     ]
    },
    {
     "data": {
      "text/plain": [
       "Text(0.5, 1.0, 'Customer Age Distribution')"
      ]
     },
     "execution_count": 10,
     "metadata": {},
     "output_type": "execute_result"
    },
    {
     "data": {
      "image/png": "[encoded data removed]",
      "text/plain": [
       "<Figure size 432x288 with 1 Axes>"
      ]
     },
     "metadata": {
      "needs_background": "light"
     },
     "output_type": "display_data"
    }
   ],
   "source": [
    "sns.boxplot('Age', data = df)\n",
    "plt.title(\"Customer Age Distribution\")"
   ]
  },
  {
   "cell_type": "code",
   "execution_count": 11,
   "id": "technical-nepal",
   "metadata": {
    "execution": {
     "iopub.execute_input": "2021-07-05T19:28:34.854107Z",
     "iopub.status.busy": "2021-07-05T19:28:34.853520Z",
     "iopub.status.idle": "2021-07-05T19:28:35.038605Z",
     "shell.execute_reply": "2021-07-05T19:28:35.039069Z",
     "shell.execute_reply.started": "2021-07-05T18:20:06.133818Z"
    },
    "papermill": {
     "duration": 0.22017,
     "end_time": "2021-07-05T19:28:35.039225",
     "exception": false,
     "start_time": "2021-07-05T19:28:34.819055",
     "status": "completed"
    },
    "tags": []
   },
   "outputs": [
    {
     "name": "stderr",
     "output_type": "stream",
     "text": [
      "/opt/conda/lib/python3.7/site-packages/seaborn/distributions.py:2557: FutureWarning: `distplot` is a deprecated function and will be removed in a future version. Please adapt your code to use either `displot` (a figure-level function with similar flexibility) or `histplot` (an axes-level function for histograms).\n",
      "  warnings.warn(msg, FutureWarning)\n"
     ]
    },
    {
     "data": {
      "text/plain": [
       "Text(0.5, 1.0, 'Annual Income Distribution')"
      ]
     },
     "execution_count": 11,
     "metadata": {},
     "output_type": "execute_result"
    },
    {
     "data": {
      "image/png": "[encoded data removed]",
      "text/plain": [
       "<Figure size 432x288 with 1 Axes>"
      ]
     },
     "metadata": {
      "needs_background": "light"
     },
     "output_type": "display_data"
    }
   ],
   "source": [
    "sns.distplot(df['Annual Income (k$)'])\n",
    "plt.title(\"Annual Income Distribution\")"
   ]
  },
  {
   "cell_type": "code",
   "execution_count": 12,
   "id": "inclusive-hunter",
   "metadata": {
    "execution": {
     "iopub.execute_input": "2021-07-05T19:28:35.109736Z",
     "iopub.status.busy": "2021-07-05T19:28:35.109082Z",
     "iopub.status.idle": "2021-07-05T19:28:35.225881Z",
     "shell.execute_reply": "2021-07-05T19:28:35.225384Z",
     "shell.execute_reply.started": "2021-07-05T18:20:06.908015Z"
    },
    "papermill": {
     "duration": 0.153127,
     "end_time": "2021-07-05T19:28:35.226020",
     "exception": false,
     "start_time": "2021-07-05T19:28:35.072893",
     "status": "completed"
    },
    "tags": []
   },
   "outputs": [
    {
     "name": "stderr",
     "output_type": "stream",
     "text": [
      "/opt/conda/lib/python3.7/site-packages/seaborn/_decorators.py:43: FutureWarning: Pass the following variable as a keyword arg: x. From version 0.12, the only valid positional argument will be `data`, and passing other arguments without an explicit keyword will result in an error or misinterpretation.\n",
      "  FutureWarning\n"
     ]
    },
    {
     "data": {
      "text/plain": [
       "Text(0.5, 1.0, 'Annual Income Distribution')"
      ]
     },
     "execution_count": 12,
     "metadata": {},
     "output_type": "execute_result"
    },
    {
     "data": {
      "image/png": "[encoded data removed]",
      "text/plain": [
       "<Figure size 432x288 with 1 Axes>"
      ]
     },
     "metadata": {
      "needs_background": "light"
     },
     "output_type": "display_data"
    }
   ],
   "source": [
    "sns.boxplot('Annual Income (k$)', data = df)\n",
    "plt.title(\"Annual Income Distribution\")"
   ]
  },
  {
   "cell_type": "code",
   "execution_count": 13,
   "id": "genetic-thesis",
   "metadata": {
    "execution": {
     "iopub.execute_input": "2021-07-05T19:28:35.323514Z",
     "iopub.status.busy": "2021-07-05T19:28:35.316709Z",
     "iopub.status.idle": "2021-07-05T19:28:35.494708Z",
     "shell.execute_reply": "2021-07-05T19:28:35.494123Z",
     "shell.execute_reply.started": "2021-07-05T18:20:07.597947Z"
    },
    "papermill": {
     "duration": 0.233409,
     "end_time": "2021-07-05T19:28:35.494837",
     "exception": false,
     "start_time": "2021-07-05T19:28:35.261428",
     "status": "completed"
    },
    "tags": []
   },
   "outputs": [
    {
     "name": "stderr",
     "output_type": "stream",
     "text": [
      "/opt/conda/lib/python3.7/site-packages/seaborn/distributions.py:2557: FutureWarning: `distplot` is a deprecated function and will be removed in a future version. Please adapt your code to use either `displot` (a figure-level function with similar flexibility) or `histplot` (an axes-level function for histograms).\n",
      "  warnings.warn(msg, FutureWarning)\n"
     ]
    },
    {
     "data": {
      "text/plain": [
       "Text(0.5, 1.0, 'Spending Score Distribution')"
      ]
     },
     "execution_count": 13,
     "metadata": {},
     "output_type": "execute_result"
    },
    {
     "data": {
      "image/png": "[encoded data removed]",
      "text/plain": [
       "<Figure size 432x288 with 1 Axes>"
      ]
     },
     "metadata": {
      "needs_background": "light"
     },
     "output_type": "display_data"
    }
   ],
   "source": [
    "sns.distplot(df['Spending Score (1-100)'])\n",
    "plt.title(\"Spending Score Distribution\")"
   ]
  },
  {
   "cell_type": "code",
   "execution_count": 14,
   "id": "gothic-yacht",
   "metadata": {
    "execution": {
     "iopub.execute_input": "2021-07-05T19:28:35.600287Z",
     "iopub.status.busy": "2021-07-05T19:28:35.595796Z",
     "iopub.status.idle": "2021-07-05T19:28:35.682008Z",
     "shell.execute_reply": "2021-07-05T19:28:35.682461Z",
     "shell.execute_reply.started": "2021-07-05T18:20:08.236772Z"
    },
    "papermill": {
     "duration": 0.151347,
     "end_time": "2021-07-05T19:28:35.682630",
     "exception": false,
     "start_time": "2021-07-05T19:28:35.531283",
     "status": "completed"
    },
    "tags": []
   },
   "outputs": [
    {
     "name": "stderr",
     "output_type": "stream",
     "text": [
      "/opt/conda/lib/python3.7/site-packages/seaborn/_decorators.py:43: FutureWarning: Pass the following variable as a keyword arg: x. From version 0.12, the only valid positional argument will be `data`, and passing other arguments without an explicit keyword will result in an error or misinterpretation.\n",
      "  FutureWarning\n"
     ]
    },
    {
     "data": {
      "text/plain": [
       "Text(0.5, 1.0, 'Spending Score Distribution')"
      ]
     },
     "execution_count": 14,
     "metadata": {},
     "output_type": "execute_result"
    },
    {
     "data": {
      "image/png": "[encoded data removed]",
      "text/plain": [
       "<Figure size 432x288 with 1 Axes>"
      ]
     },
     "metadata": {
      "needs_background": "light"
     },
     "output_type": "display_data"
    }
   ],
   "source": [
    "sns.boxplot('Spending Score (1-100)', data = df)\n",
    "plt.title(\"Spending Score Distribution\")"
   ]
  },
  {
   "cell_type": "code",
   "execution_count": 15,
   "id": "scenic-toner",
   "metadata": {
    "execution": {
     "iopub.execute_input": "2021-07-05T19:28:35.768590Z",
     "iopub.status.busy": "2021-07-05T19:28:35.767709Z",
     "iopub.status.idle": "2021-07-05T19:28:35.771533Z",
     "shell.execute_reply": "2021-07-05T19:28:35.771968Z",
     "shell.execute_reply.started": "2021-07-05T18:20:08.850313Z"
    },
    "papermill": {
     "duration": 0.051812,
     "end_time": "2021-07-05T19:28:35.772126",
     "exception": false,
     "start_time": "2021-07-05T19:28:35.720314",
     "status": "completed"
    },
    "tags": []
   },
   "outputs": [
    {
     "data": {
      "text/html": [
       "<div>\n",
       "<style scoped>\n",
       "    .dataframe tbody tr th:only-of-type {\n",
       "        vertical-align: middle;\n",
       "    }\n",
       "\n",
       "    .dataframe tbody tr th {\n",
       "        vertical-align: top;\n",
       "    }\n",
       "\n",
       "    .dataframe thead th {\n",
       "        text-align: right;\n",
       "    }\n",
       "</style>\n",
       "<table border=\"1\" class=\"dataframe\">\n",
       "  <thead>\n",
       "    <tr style=\"text-align: right;\">\n",
       "      <th></th>\n",
       "      <th>Male</th>\n",
       "    </tr>\n",
       "  </thead>\n",
       "  <tbody>\n",
       "    <tr>\n",
       "      <th>0</th>\n",
       "      <td>1</td>\n",
       "    </tr>\n",
       "    <tr>\n",
       "      <th>1</th>\n",
       "      <td>1</td>\n",
       "    </tr>\n",
       "    <tr>\n",
       "      <th>2</th>\n",
       "      <td>0</td>\n",
       "    </tr>\n",
       "    <tr>\n",
       "      <th>3</th>\n",
       "      <td>0</td>\n",
       "    </tr>\n",
       "    <tr>\n",
       "      <th>4</th>\n",
       "      <td>0</td>\n",
       "    </tr>\n",
       "  </tbody>\n",
       "</table>\n",
       "</div>"
      ],
      "text/plain": [
       "   Male\n",
       "0     1\n",
       "1     1\n",
       "2     0\n",
       "3     0\n",
       "4     0"
      ]
     },
     "execution_count": 15,
     "metadata": {},
     "output_type": "execute_result"
    }
   ],
   "source": [
    "pd.get_dummies(df[\"Gender\"], drop_first=True).head()"
   ]
  },
  {
   "cell_type": "code",
   "execution_count": 16,
   "id": "british-fiction",
   "metadata": {
    "execution": {
     "iopub.execute_input": "2021-07-05T19:28:35.900031Z",
     "iopub.status.busy": "2021-07-05T19:28:35.879504Z",
     "iopub.status.idle": "2021-07-05T19:28:36.106252Z",
     "shell.execute_reply": "2021-07-05T19:28:36.105515Z",
     "shell.execute_reply.started": "2021-07-05T18:21:00.767608Z"
    },
    "papermill": {
     "duration": 0.295766,
     "end_time": "2021-07-05T19:28:36.106385",
     "exception": false,
     "start_time": "2021-07-05T19:28:35.810619",
     "status": "completed"
    },
    "tags": []
   },
   "outputs": [
    {
     "data": {
      "text/plain": [
       "<AxesSubplot:>"
      ]
     },
     "execution_count": 16,
     "metadata": {},
     "output_type": "execute_result"
    },
    {
     "data": {
      "image/png": "[encoded data removed]",
      "text/plain": [
       "<Figure size 432x288 with 2 Axes>"
      ]
     },
     "metadata": {
      "needs_background": "light"
     },
     "output_type": "display_data"
    }
   ],
   "source": [
    "sns.heatmap(df.corr())"
   ]
  },
  {
   "cell_type": "code",
   "execution_count": 17,
   "id": "mathematical-timer",
   "metadata": {
    "execution": {
     "iopub.execute_input": "2021-07-05T19:28:36.231609Z",
     "iopub.status.busy": "2021-07-05T19:28:36.211771Z",
     "iopub.status.idle": "2021-07-05T19:28:37.929368Z",
     "shell.execute_reply": "2021-07-05T19:28:37.928824Z",
     "shell.execute_reply.started": "2021-07-05T18:21:24.343622Z"
    },
    "papermill": {
     "duration": 1.783769,
     "end_time": "2021-07-05T19:28:37.929501",
     "exception": false,
     "start_time": "2021-07-05T19:28:36.145732",
     "status": "completed"
    },
    "tags": []
   },
   "outputs": [
    {
     "data": {
      "text/plain": [
       "<seaborn.axisgrid.PairGrid at 0x7fb021fc9cd0>"
      ]
     },
     "execution_count": 17,
     "metadata": {},
     "output_type": "execute_result"
    },
    {
     "data": {
      "image/png": "[encoded data removed]",
      "text/plain": [
       "<Figure size 540x540 with 12 Axes>"
      ]
     },
     "metadata": {
      "needs_background": "light"
     },
     "output_type": "display_data"
    }
   ],
   "source": [
    "sns.pairplot(df)"
   ]
  },
  {
   "cell_type": "markdown",
   "id": "concerned-concert",
   "metadata": {
    "papermill": {
     "duration": 0.042078,
     "end_time": "2021-07-05T19:28:38.014731",
     "exception": false,
     "start_time": "2021-07-05T19:28:37.972653",
     "status": "completed"
    },
    "tags": []
   },
   "source": [
    "#### For finding the value of K"
   ]
  },
  {
   "cell_type": "code",
   "execution_count": 18,
   "id": "premium-singapore",
   "metadata": {
    "execution": {
     "iopub.execute_input": "2021-07-05T19:28:38.103881Z",
     "iopub.status.busy": "2021-07-05T19:28:38.103250Z",
     "iopub.status.idle": "2021-07-05T19:28:38.105089Z",
     "shell.execute_reply": "2021-07-05T19:28:38.105552Z",
     "shell.execute_reply.started": "2021-07-05T18:37:13.517933Z"
    },
    "papermill": {
     "duration": 0.049212,
     "end_time": "2021-07-05T19:28:38.105700",
     "exception": false,
     "start_time": "2021-07-05T19:28:38.056488",
     "status": "completed"
    },
    "tags": []
   },
   "outputs": [],
   "source": [
    "X = df.iloc[:, [2, 3]].values"
   ]
  },
  {
   "cell_type": "code",
   "execution_count": 19,
   "id": "desperate-revelation",
   "metadata": {
    "execution": {
     "iopub.execute_input": "2021-07-05T19:28:38.196206Z",
     "iopub.status.busy": "2021-07-05T19:28:38.195505Z",
     "iopub.status.idle": "2021-07-05T19:28:38.789435Z",
     "shell.execute_reply": "2021-07-05T19:28:38.788935Z",
     "shell.execute_reply.started": "2021-07-05T18:38:03.466333Z"
    },
    "papermill": {
     "duration": 0.641959,
     "end_time": "2021-07-05T19:28:38.789586",
     "exception": false,
     "start_time": "2021-07-05T19:28:38.147627",
     "status": "completed"
    },
    "tags": []
   },
   "outputs": [
    {
     "data": {
      "image/png": "[encoded data removed]",
      "text/plain": [
       "<Figure size 432x288 with 1 Axes>"
      ]
     },
     "metadata": {
      "needs_background": "light"
     },
     "output_type": "display_data"
    }
   ],
   "source": [
    "wcss = []\n",
    "for i in range(1, 11):\n",
    "    kmeans = KMeans(n_clusters=i, init='k-means++', random_state=42)\n",
    "    kmeans.fit(X)\n",
    "    wcss.append(kmeans.inertia_)\n",
    "plt.plot(range(1,11),wcss)\n",
    "plt.title('Elbow method')\n",
    "plt.xlabel('Number of clusters')\n",
    "plt.ylabel('WCSS')\n",
    "plt.show();"
   ]
  },
  {
   "cell_type": "markdown",
   "id": "sacred-dispute",
   "metadata": {
    "papermill": {
     "duration": 0.042982,
     "end_time": "2021-07-05T19:28:38.876094",
     "exception": false,
     "start_time": "2021-07-05T19:28:38.833112",
     "status": "completed"
    },
    "tags": []
   },
   "source": [
    "### Now Applying/training the model"
   ]
  },
  {
   "cell_type": "markdown",
   "id": "mobile-chest",
   "metadata": {
    "papermill": {
     "duration": 0.042662,
     "end_time": "2021-07-05T19:28:38.961356",
     "exception": false,
     "start_time": "2021-07-05T19:28:38.918694",
     "status": "completed"
    },
    "tags": []
   },
   "source": [
    "#### Kmeans Algorithm"
   ]
  },
  {
   "cell_type": "code",
   "execution_count": 20,
   "id": "inappropriate-panama",
   "metadata": {
    "execution": {
     "iopub.execute_input": "2021-07-05T19:28:39.054955Z",
     "iopub.status.busy": "2021-07-05T19:28:39.054312Z",
     "iopub.status.idle": "2021-07-05T19:28:39.255901Z",
     "shell.execute_reply": "2021-07-05T19:28:39.255319Z",
     "shell.execute_reply.started": "2021-07-05T18:49:14.415458Z"
    },
    "papermill": {
     "duration": 0.251062,
     "end_time": "2021-07-05T19:28:39.256038",
     "exception": false,
     "start_time": "2021-07-05T19:28:39.004976",
     "status": "completed"
    },
    "tags": []
   },
   "outputs": [
    {
     "data": {
      "image/png": "[encoded data removed]",
      "text/plain": [
       "<Figure size 432x288 with 1 Axes>"
      ]
     },
     "metadata": {
      "needs_background": "light"
     },
     "output_type": "display_data"
    }
   ],
   "source": [
    "# define the model\n",
    "model = KMeans(n_clusters = 5, init='k-means++', random_state=42)\n",
    "# fit the model\n",
    "model.fit(X)\n",
    "# assign a cluster to each example\n",
    "yhat = model.predict(X)\n",
    "# retrieve unique clusters\n",
    "clusters = np.unique(yhat)\n",
    "# create scatter plot for sample from each cluster\n",
    "for cluster in clusters:\n",
    "    # get row indexes for samples with this cluster\n",
    "    row_ix = np.where(yhat == cluster)\n",
    "    #create scatter of these samples\n",
    "    plt.scatter(X[row_ix, 0], X[row_ix, 1])\n",
    "# show the plot\n",
    "plt.show()"
   ]
  },
  {
   "cell_type": "markdown",
   "id": "defined-protection",
   "metadata": {
    "papermill": {
     "duration": 0.04338,
     "end_time": "2021-07-05T19:28:39.343421",
     "exception": false,
     "start_time": "2021-07-05T19:28:39.300041",
     "status": "completed"
    },
    "tags": []
   },
   "source": [
    "##### It gives good result lets check another algorithms"
   ]
  },
  {
   "cell_type": "markdown",
   "id": "french-measure",
   "metadata": {
    "papermill": {
     "duration": 0.043721,
     "end_time": "2021-07-05T19:28:39.431428",
     "exception": false,
     "start_time": "2021-07-05T19:28:39.387707",
     "status": "completed"
    },
    "tags": []
   },
   "source": [
    "## DBSCAN Algortihm"
   ]
  },
  {
   "cell_type": "code",
   "execution_count": 21,
   "id": "limited-reducing",
   "metadata": {
    "execution": {
     "iopub.execute_input": "2021-07-05T19:28:39.527872Z",
     "iopub.status.busy": "2021-07-05T19:28:39.527211Z",
     "iopub.status.idle": "2021-07-05T19:28:39.659742Z",
     "shell.execute_reply": "2021-07-05T19:28:39.659176Z",
     "shell.execute_reply.started": "2021-07-05T19:16:26.787752Z"
    },
    "papermill": {
     "duration": 0.184763,
     "end_time": "2021-07-05T19:28:39.659886",
     "exception": false,
     "start_time": "2021-07-05T19:28:39.475123",
     "status": "completed"
    },
    "tags": []
   },
   "outputs": [
    {
     "data": {
      "image/png": "[encoded data removed]",
      "text/plain": [
       "<Figure size 432x288 with 1 Axes>"
      ]
     },
     "metadata": {
      "needs_background": "light"
     },
     "output_type": "display_data"
    }
   ],
   "source": [
    "# define the model\n",
    "model = DBSCAN(eps=0.30, min_samples=5)\n",
    "# fit model and predict clusters\n",
    "yhat = model.fit_predict(X)\n",
    "# retrieve unique clusters\n",
    "clusters = np.unique(yhat)\n",
    "# create scatter plot for samples from each cluster\n",
    "for cluster in clusters:\n",
    "    # get row indexes for samples with this cluster\n",
    "    row_ix = np.where(yhat == cluster)\n",
    "    # create scatter of these samples\n",
    "    plt.scatter(X[row_ix, 0], X[row_ix, 1])\n",
    "# show the plot\n",
    "plt.show()"
   ]
  },
  {
   "cell_type": "markdown",
   "id": "tamil-giant",
   "metadata": {
    "papermill": {
     "duration": 0.044127,
     "end_time": "2021-07-05T19:28:39.748423",
     "exception": false,
     "start_time": "2021-07-05T19:28:39.704296",
     "status": "completed"
    },
    "tags": []
   },
   "source": [
    "#### this one is not give good result"
   ]
  },
  {
   "cell_type": "markdown",
   "id": "civic-diameter",
   "metadata": {
    "papermill": {
     "duration": 0.044174,
     "end_time": "2021-07-05T19:28:39.837008",
     "exception": false,
     "start_time": "2021-07-05T19:28:39.792834",
     "status": "completed"
    },
    "tags": []
   },
   "source": [
    "## Birch Algotithm"
   ]
  },
  {
   "cell_type": "code",
   "execution_count": 22,
   "id": "numerical-landscape",
   "metadata": {
    "execution": {
     "iopub.execute_input": "2021-07-05T19:28:39.931854Z",
     "iopub.status.busy": "2021-07-05T19:28:39.930927Z",
     "iopub.status.idle": "2021-07-05T19:28:40.319383Z",
     "shell.execute_reply": "2021-07-05T19:28:40.318568Z",
     "shell.execute_reply.started": "2021-07-05T19:19:05.588176Z"
    },
    "papermill": {
     "duration": 0.438828,
     "end_time": "2021-07-05T19:28:40.319521",
     "exception": false,
     "start_time": "2021-07-05T19:28:39.880693",
     "status": "completed"
    },
    "tags": []
   },
   "outputs": [
    {
     "data": {
      "image/png": "[encoded data removed]",
      "text/plain": [
       "<Figure size 432x288 with 1 Axes>"
      ]
     },
     "metadata": {
      "needs_background": "light"
     },
     "output_type": "display_data"
    }
   ],
   "source": [
    "# define the model\n",
    "model = Birch(threshold=0.01, n_clusters=5)\n",
    "# fit the model\n",
    "model.fit(X)\n",
    "# assign a cluster to each example\n",
    "yhat = model.predict(X)\n",
    "# retrieve unique clusters\n",
    "clusters = np.unique(yhat)\n",
    "# create scatter plot for samples from each cluster\n",
    "for cluster in clusters:\n",
    "    # get row indexes for samples with this cluster\n",
    "    row_ix = np.where(yhat == cluster)\n",
    "    # create scatter of these samples\n",
    "    plt.scatter(X[row_ix, 0], X[row_ix, 1])\n",
    "# show the plot\n",
    "plt.show()"
   ]
  },
  {
   "cell_type": "markdown",
   "id": "effective-diversity",
   "metadata": {
    "papermill": {
     "duration": 0.044484,
     "end_time": "2021-07-05T19:28:40.408785",
     "exception": false,
     "start_time": "2021-07-05T19:28:40.364301",
     "status": "completed"
    },
    "tags": []
   },
   "source": [
    "#### Birch Alogorithm also give a good result"
   ]
  },
  {
   "cell_type": "markdown",
   "id": "grand-stockholm",
   "metadata": {
    "papermill": {
     "duration": 0.045683,
     "end_time": "2021-07-05T19:28:40.499456",
     "exception": false,
     "start_time": "2021-07-05T19:28:40.453773",
     "status": "completed"
    },
    "tags": []
   },
   "source": [
    "## Affinity Propagation Algorithm"
   ]
  },
  {
   "cell_type": "code",
   "execution_count": 23,
   "id": "actual-tuition",
   "metadata": {
    "execution": {
     "iopub.execute_input": "2021-07-05T19:28:40.599214Z",
     "iopub.status.busy": "2021-07-05T19:28:40.598111Z",
     "iopub.status.idle": "2021-07-05T19:28:40.908085Z",
     "shell.execute_reply": "2021-07-05T19:28:40.908836Z",
     "shell.execute_reply.started": "2021-07-05T19:21:29.548323Z"
    },
    "papermill": {
     "duration": 0.364501,
     "end_time": "2021-07-05T19:28:40.909058",
     "exception": false,
     "start_time": "2021-07-05T19:28:40.544557",
     "status": "completed"
    },
    "tags": []
   },
   "outputs": [
    {
     "name": "stderr",
     "output_type": "stream",
     "text": [
      "/opt/conda/lib/python3.7/site-packages/sklearn/cluster/_affinity_propagation.py:154: FutureWarning: 'random_state' has been introduced in 0.23. It will be set to None starting from 1.0 (renaming of 0.25) which means that results will differ at every function call. Set 'random_state' to None to silence this warning, or to 0 to keep the behavior of versions <0.23.\n",
      "  FutureWarning\n"
     ]
    },
    {
     "data": {
      "image/png": "[encoded data removed]",
      "text/plain": [
       "<Figure size 432x288 with 1 Axes>"
      ]
     },
     "metadata": {
      "needs_background": "light"
     },
     "output_type": "display_data"
    }
   ],
   "source": [
    "# define the model\n",
    "model = AffinityPropagation(damping=0.5)\n",
    "# fit the model\n",
    "model.fit(X)\n",
    "# assign a cluster to each example\n",
    "yhat = model.predict(X)\n",
    "# retrieve unique clusters\n",
    "clusters = np.unique(yhat)\n",
    "# create scatter plot for samples from each cluster\n",
    "for cluster in clusters:\n",
    "    # get row indexes for samples with this cluster\n",
    "    row_ix = np.where(yhat == cluster)\n",
    "    # create scatter of these samples\n",
    "    plt.scatter(X[row_ix, 0], X[row_ix, 1])\n",
    "# show the plot\n",
    "plt.show()"
   ]
  },
  {
   "cell_type": "markdown",
   "id": "needed-smile",
   "metadata": {
    "papermill": {
     "duration": 0.045716,
     "end_time": "2021-07-05T19:28:41.000835",
     "exception": false,
     "start_time": "2021-07-05T19:28:40.955119",
     "status": "completed"
    },
    "tags": []
   },
   "source": [
    "#### In this case, I could not achieve the good result"
   ]
  },
  {
   "cell_type": "markdown",
   "id": "handy-pastor",
   "metadata": {
    "papermill": {
     "duration": 0.046547,
     "end_time": "2021-07-05T19:28:41.094384",
     "exception": false,
     "start_time": "2021-07-05T19:28:41.047837",
     "status": "completed"
    },
    "tags": []
   },
   "source": [
    "## Spectral Clustering Algorithm"
   ]
  },
  {
   "cell_type": "code",
   "execution_count": 24,
   "id": "fleet-guidance",
   "metadata": {
    "execution": {
     "iopub.execute_input": "2021-07-05T19:28:41.193011Z",
     "iopub.status.busy": "2021-07-05T19:28:41.192375Z",
     "iopub.status.idle": "2021-07-05T19:28:48.156575Z",
     "shell.execute_reply": "2021-07-05T19:28:48.157025Z",
     "shell.execute_reply.started": "2021-07-05T19:24:39.341750Z"
    },
    "papermill": {
     "duration": 7.016065,
     "end_time": "2021-07-05T19:28:48.157193",
     "exception": false,
     "start_time": "2021-07-05T19:28:41.141128",
     "status": "completed"
    },
    "tags": []
   },
   "outputs": [
    {
     "data": {
      "image/png": "[encoded data removed]",
      "text/plain": [
       "<Figure size 432x288 with 1 Axes>"
      ]
     },
     "metadata": {
      "needs_background": "light"
     },
     "output_type": "display_data"
    }
   ],
   "source": [
    "# define the model\n",
    "model = SpectralClustering(n_clusters=5)\n",
    "# fit model and predict clusters\n",
    "yhat = model.fit_predict(X)\n",
    "# retrieve unique clusters\n",
    "clusters = np.unique(yhat)\n",
    "# create scatter plot for samples from each cluster\n",
    "for cluster in clusters:\n",
    "    # get row indexes for samples with this cluster\n",
    "    row_ix = np.where(yhat == cluster)\n",
    "    # create scatter of these samples\n",
    "    plt.scatter(X[row_ix, 0], X[row_ix, 1])\n",
    "# show the plot\n",
    "plt.show()"
   ]
  },
  {
   "cell_type": "markdown",
   "id": "based-necklace",
   "metadata": {
    "papermill": {
     "duration": 0.047203,
     "end_time": "2021-07-05T19:28:48.251742",
     "exception": false,
     "start_time": "2021-07-05T19:28:48.204539",
     "status": "completed"
    },
    "tags": []
   },
   "source": [
    "##### We dont get a good result also in this Algorithm"
   ]
  },
  {
   "cell_type": "markdown",
   "id": "gross-circular",
   "metadata": {
    "papermill": {
     "duration": 0.047778,
     "end_time": "2021-07-05T19:28:48.347596",
     "exception": false,
     "start_time": "2021-07-05T19:28:48.299818",
     "status": "completed"
    },
    "tags": []
   },
   "source": [
    "#### The Algorithms which gives good results on this dataset are KMeans and Birch algorithms"
   ]
  },
  {
   "cell_type": "code",
   "execution_count": null,
   "id": "cathedral-arbor",
   "metadata": {
    "papermill": {
     "duration": 0.046979,
     "end_time": "2021-07-05T19:28:48.441655",
     "exception": false,
     "start_time": "2021-07-05T19:28:48.394676",
     "status": "completed"
    },
    "tags": []
   },
   "outputs": [],
   "source": []
  }
 ],
 "metadata": {
  "kernelspec": {
   "display_name": "Python 3",
   "language": "python",
   "name": "python3"
  },
  "language_info": {
   "codemirror_mode": {
    "name": "ipython",
    "version": 3
   },
   "file_extension": ".py",
   "mimetype": "text/x-python",
   "name": "python",
   "nbconvert_exporter": "python",
   "pygments_lexer": "ipython3",
   "version": "3.7.10"
  },
  "papermill": {
   "default_parameters": {},
   "duration": 24.858232,
   "end_time": "2021-07-05T19:28:49.298985",
   "environment_variables": {},
   "exception": null,
   "input_path": "__notebook__.ipynb",
   "output_path": "__notebook__.ipynb",
   "parameters": {},
   "start_time": "2021-07-05T19:28:24.440753",
   "version": "2.3.3"
  }
 },
 "nbformat": 4,
 "nbformat_minor": 5
}
